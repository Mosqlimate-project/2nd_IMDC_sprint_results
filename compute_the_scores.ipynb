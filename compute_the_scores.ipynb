{
 "cells": [
  {
   "cell_type": "markdown",
   "id": "a9f2529b-2438-41e4-896b-f29551a2058d",
   "metadata": {},
   "source": [
    "This notebook computes the WIS for the predictions, following the six scoring criteria specified in the repository’s README:"
   ]
  },
  {
   "cell_type": "code",
   "execution_count": 1,
   "id": "56386b7d-41bb-47b8-8d9e-6dd235db863c",
   "metadata": {},
   "outputs": [],
   "source": [
    "import numpy as np\n",
    "import pandas as pd\n",
    "import mosqlient as mosq\n",
    "from epiweeks import Week\n",
    "from itertools import product\n",
    "import matplotlib.pyplot as plt\n",
    "from datetime import datetime, timedelta\n",
    "import warnings\n",
    "warnings.filterwarnings(\"ignore\", category=pd.errors.SettingWithCopyWarning)"
   ]
  },
  {
   "cell_type": "code",
   "execution_count": 2,
   "id": "1ad605f3-10bc-4377-9df9-61e0a4bf45fb",
   "metadata": {},
   "outputs": [],
   "source": [
    "from mosqlient.scoring import compute_wis"
   ]
  },
  {
   "cell_type": "markdown",
   "id": "577b8d06-ebf9-4478-a63d-db0cbe2a8d02",
   "metadata": {},
   "source": [
    "Load the data:"
   ]
  },
  {
   "cell_type": "code",
   "execution_count": 3,
   "id": "c16ed3c3-2aa9-4d04-a83f-0ef173cb9af9",
   "metadata": {},
   "outputs": [
    {
     "data": {
      "text/html": [
       "<div>\n",
       "<style scoped>\n",
       "    .dataframe tbody tr th:only-of-type {\n",
       "        vertical-align: middle;\n",
       "    }\n",
       "\n",
       "    .dataframe tbody tr th {\n",
       "        vertical-align: top;\n",
       "    }\n",
       "\n",
       "    .dataframe thead th {\n",
       "        text-align: right;\n",
       "    }\n",
       "</style>\n",
       "<table border=\"1\" class=\"dataframe\">\n",
       "  <thead>\n",
       "    <tr style=\"text-align: right;\">\n",
       "      <th></th>\n",
       "      <th>date</th>\n",
       "      <th>uf</th>\n",
       "      <th>casos</th>\n",
       "    </tr>\n",
       "  </thead>\n",
       "  <tbody>\n",
       "    <tr>\n",
       "      <th>0</th>\n",
       "      <td>2010-01-03</td>\n",
       "      <td>AC</td>\n",
       "      <td>760</td>\n",
       "    </tr>\n",
       "    <tr>\n",
       "      <th>26</th>\n",
       "      <td>2010-01-03</td>\n",
       "      <td>TO</td>\n",
       "      <td>231</td>\n",
       "    </tr>\n",
       "    <tr>\n",
       "      <th>25</th>\n",
       "      <td>2010-01-03</td>\n",
       "      <td>SP</td>\n",
       "      <td>1628</td>\n",
       "    </tr>\n",
       "    <tr>\n",
       "      <th>24</th>\n",
       "      <td>2010-01-03</td>\n",
       "      <td>SE</td>\n",
       "      <td>3</td>\n",
       "    </tr>\n",
       "    <tr>\n",
       "      <th>23</th>\n",
       "      <td>2010-01-03</td>\n",
       "      <td>SC</td>\n",
       "      <td>10</td>\n",
       "    </tr>\n",
       "  </tbody>\n",
       "</table>\n",
       "</div>"
      ],
      "text/plain": [
       "         date  uf  casos\n",
       "0  2010-01-03  AC    760\n",
       "26 2010-01-03  TO    231\n",
       "25 2010-01-03  SP   1628\n",
       "24 2010-01-03  SE      3\n",
       "23 2010-01-03  SC     10"
      ]
     },
     "execution_count": 3,
     "metadata": {},
     "output_type": "execute_result"
    }
   ],
   "source": [
    "data = pd.read_csv('/Users/eduardoaraujo/Documents/sprint_data_2025/dengue.csv.gz')\n",
    "data.date = pd.to_datetime(data.date)\n",
    "data = data.groupby(['date', 'uf'])[['casos']].sum().reset_index()\n",
    "data = data.sort_values(by = 'date')\n",
    "data.head()"
   ]
  },
  {
   "cell_type": "code",
   "execution_count": 4,
   "id": "86bead21-e29a-4b3b-a877-4b533da897eb",
   "metadata": {},
   "outputs": [
    {
     "data": {
      "text/plain": [
       "date     2025-07-27 00:00:00\n",
       "uf                        TO\n",
       "casos                 159561\n",
       "dtype: object"
      ]
     },
     "execution_count": 4,
     "metadata": {},
     "output_type": "execute_result"
    }
   ],
   "source": [
    "data.max()"
   ]
  },
  {
   "cell_type": "code",
   "execution_count": 5,
   "id": "faa78d45-6cd3-4b0f-bc49-6f64fcf32b77",
   "metadata": {},
   "outputs": [
    {
     "data": {
      "text/plain": [
       "Week(2025, 31, CDC)"
      ]
     },
     "execution_count": 5,
     "metadata": {},
     "output_type": "execute_result"
    }
   ],
   "source": [
    "Week.fromdate(pd.to_datetime('2025-07-27'))"
   ]
  },
  {
   "cell_type": "code",
   "execution_count": 6,
   "id": "6bb7ce24-3a0c-445f-a017-203d8bda0d74",
   "metadata": {},
   "outputs": [
    {
     "data": {
      "text/plain": [
       "array(['AC', 'TO', 'SP', 'SE', 'SC', 'RS', 'RR', 'RO', 'RJ', 'PR', 'PI',\n",
       "       'PE', 'PB', 'RN', 'MT', 'PA', 'AM', 'AP', 'BA', 'CE', 'DF', 'AL',\n",
       "       'GO', 'MA', 'MG', 'MS', 'ES'], dtype=object)"
      ]
     },
     "execution_count": 6,
     "metadata": {},
     "output_type": "execute_result"
    }
   ],
   "source": [
    "data.uf.unique()"
   ]
  },
  {
   "cell_type": "markdown",
   "id": "9efee808-3c61-4286-ad70-9a1b7283cb44",
   "metadata": {},
   "source": [
    "Get the range of the peaks in a three week window centered in the peak: "
   ]
  },
  {
   "cell_type": "code",
   "execution_count": 7,
   "id": "3a1f5092-1d52-4ea7-9b55-0067eb2e420d",
   "metadata": {},
   "outputs": [],
   "source": [
    "data_23 = data.loc[(data.date >= Week(2022, 41).startdate().strftime('%Y-%m-%d')) & (data.date <= Week(2023, 40).startdate().strftime('%Y-%m-%d'))] \n",
    "data_24 = data.loc[(data.date >= Week(2023, 41).startdate().strftime('%Y-%m-%d')) & (data.date <= Week(2024, 40).startdate().strftime('%Y-%m-%d'))] \n",
    "data_25 = data.loc[(data.date >= Week(2024, 41).startdate().strftime('%Y-%m-%d')) & (data.date <= Week(2025, 40).startdate().strftime('%Y-%m-%d'))] \n",
    "\n",
    "states = data.uf.unique()\n",
    "years = [2023, 2024, 2025]\n",
    "peak_dates = {state: {year: {} for year in years} for state in states}\n",
    "\n",
    "for state in states:\n",
    "    \n",
    "    df_23 = data_23.loc[data_23.uf == state]\n",
    "    \n",
    "    peak_date = pd.to_datetime(df_23.loc[df_23.casos == df_23['casos'].max()].date.values[0])\n",
    "\n",
    "    peak_dates[state][2023]['peak_date'] = peak_date\n",
    "\n",
    "    df_24 = data_24.loc[data_24.uf == state]\n",
    "    \n",
    "    peak_date = pd.to_datetime(df_24.loc[df_24.casos == df_24['casos'].max()].date.values[0])\n",
    "\n",
    "    peak_dates[state][2024]['peak_date'] = peak_date\n",
    "\n",
    "    df_25 = data_25.loc[data_25.uf == state]\n",
    "    \n",
    "    peak_date = pd.to_datetime(df_25.loc[df_25.casos == df_25['casos'].max()].date.values[0])\n",
    "\n",
    "    peak_dates[state][2025]['peak_date'] = peak_date"
   ]
  },
  {
   "cell_type": "code",
   "execution_count": 8,
   "id": "7f53b9e5-5b46-4466-b4a9-c00fad987aa2",
   "metadata": {},
   "outputs": [
    {
     "data": {
      "text/plain": [
       "{'AC': {2023: {'peak_date': Timestamp('2023-03-12 00:00:00')},\n",
       "  2024: {'peak_date': Timestamp('2023-12-10 00:00:00')},\n",
       "  2025: {'peak_date': Timestamp('2025-02-02 00:00:00')}},\n",
       " 'TO': {2023: {'peak_date': Timestamp('2023-04-09 00:00:00')},\n",
       "  2024: {'peak_date': Timestamp('2024-04-14 00:00:00')},\n",
       "  2025: {'peak_date': Timestamp('2025-05-11 00:00:00')}},\n",
       " 'SP': {2023: {'peak_date': Timestamp('2023-04-09 00:00:00')},\n",
       "  2024: {'peak_date': Timestamp('2024-05-05 00:00:00')},\n",
       "  2025: {'peak_date': Timestamp('2025-03-16 00:00:00')}},\n",
       " 'SE': {2023: {'peak_date': Timestamp('2023-06-11 00:00:00')},\n",
       "  2024: {'peak_date': Timestamp('2024-03-31 00:00:00')},\n",
       "  2025: {'peak_date': Timestamp('2025-06-29 00:00:00')}},\n",
       " 'SC': {2023: {'peak_date': Timestamp('2023-04-16 00:00:00')},\n",
       "  2024: {'peak_date': Timestamp('2024-04-07 00:00:00')},\n",
       "  2025: {'peak_date': Timestamp('2025-04-20 00:00:00')}},\n",
       " 'RS': {2023: {'peak_date': Timestamp('2023-04-16 00:00:00')},\n",
       "  2024: {'peak_date': Timestamp('2024-04-14 00:00:00')},\n",
       "  2025: {'peak_date': Timestamp('2025-04-20 00:00:00')}},\n",
       " 'RR': {2023: {'peak_date': Timestamp('2023-08-27 00:00:00')},\n",
       "  2024: {'peak_date': Timestamp('2024-06-09 00:00:00')},\n",
       "  2025: {'peak_date': Timestamp('2025-07-20 00:00:00')}},\n",
       " 'RO': {2023: {'peak_date': Timestamp('2023-01-08 00:00:00')},\n",
       "  2024: {'peak_date': Timestamp('2024-03-03 00:00:00')},\n",
       "  2025: {'peak_date': Timestamp('2025-05-11 00:00:00')}},\n",
       " 'RJ': {2023: {'peak_date': Timestamp('2023-04-09 00:00:00')},\n",
       "  2024: {'peak_date': Timestamp('2024-02-18 00:00:00')},\n",
       "  2025: {'peak_date': Timestamp('2025-02-09 00:00:00')}},\n",
       " 'PR': {2023: {'peak_date': Timestamp('2023-04-09 00:00:00')},\n",
       "  2024: {'peak_date': Timestamp('2024-03-31 00:00:00')},\n",
       "  2025: {'peak_date': Timestamp('2025-03-30 00:00:00')}},\n",
       " 'PI': {2023: {'peak_date': Timestamp('2023-03-26 00:00:00')},\n",
       "  2024: {'peak_date': Timestamp('2024-03-10 00:00:00')},\n",
       "  2025: {'peak_date': Timestamp('2025-05-04 00:00:00')}},\n",
       " 'PE': {2023: {'peak_date': Timestamp('2023-03-26 00:00:00')},\n",
       "  2024: {'peak_date': Timestamp('2024-03-31 00:00:00')},\n",
       "  2025: {'peak_date': Timestamp('2025-07-06 00:00:00')}},\n",
       " 'PB': {2023: {'peak_date': Timestamp('2023-04-09 00:00:00')},\n",
       "  2024: {'peak_date': Timestamp('2024-03-17 00:00:00')},\n",
       "  2025: {'peak_date': Timestamp('2025-02-16 00:00:00')}},\n",
       " 'RN': {2023: {'peak_date': Timestamp('2023-04-09 00:00:00')},\n",
       "  2024: {'peak_date': Timestamp('2024-03-10 00:00:00')},\n",
       "  2025: {'peak_date': Timestamp('2025-04-20 00:00:00')}},\n",
       " 'MT': {2023: {'peak_date': Timestamp('2023-04-09 00:00:00')},\n",
       "  2024: {'peak_date': Timestamp('2024-04-28 00:00:00')},\n",
       "  2025: {'peak_date': Timestamp('2025-01-19 00:00:00')}},\n",
       " 'PA': {2023: {'peak_date': Timestamp('2023-03-19 00:00:00')},\n",
       "  2024: {'peak_date': Timestamp('2024-02-25 00:00:00')},\n",
       "  2025: {'peak_date': Timestamp('2025-02-09 00:00:00')}},\n",
       " 'AM': {2023: {'peak_date': Timestamp('2023-02-05 00:00:00')},\n",
       "  2024: {'peak_date': Timestamp('2024-01-14 00:00:00')},\n",
       "  2025: {'peak_date': Timestamp('2025-03-09 00:00:00')}},\n",
       " 'AP': {2023: {'peak_date': Timestamp('2023-08-27 00:00:00')},\n",
       "  2024: {'peak_date': Timestamp('2024-02-25 00:00:00')},\n",
       "  2025: {'peak_date': Timestamp('2025-01-26 00:00:00')}},\n",
       " 'BA': {2023: {'peak_date': Timestamp('2023-04-30 00:00:00')},\n",
       "  2024: {'peak_date': Timestamp('2024-03-31 00:00:00')},\n",
       "  2025: {'peak_date': Timestamp('2025-04-20 00:00:00')}},\n",
       " 'CE': {2023: {'peak_date': Timestamp('2023-05-07 00:00:00')},\n",
       "  2024: {'peak_date': Timestamp('2024-04-07 00:00:00')},\n",
       "  2025: {'peak_date': Timestamp('2025-04-27 00:00:00')}},\n",
       " 'DF': {2023: {'peak_date': Timestamp('2023-04-09 00:00:00')},\n",
       "  2024: {'peak_date': Timestamp('2024-02-18 00:00:00')},\n",
       "  2025: {'peak_date': Timestamp('2024-11-17 00:00:00')}},\n",
       " 'AL': {2023: {'peak_date': Timestamp('2023-04-09 00:00:00')},\n",
       "  2024: {'peak_date': Timestamp('2024-07-07 00:00:00')},\n",
       "  2025: {'peak_date': Timestamp('2025-06-29 00:00:00')}},\n",
       " 'GO': {2023: {'peak_date': Timestamp('2023-03-19 00:00:00')},\n",
       "  2024: {'peak_date': Timestamp('2024-03-10 00:00:00')},\n",
       "  2025: {'peak_date': Timestamp('2025-05-04 00:00:00')}},\n",
       " 'MA': {2023: {'peak_date': Timestamp('2023-03-05 00:00:00')},\n",
       "  2024: {'peak_date': Timestamp('2024-03-17 00:00:00')},\n",
       "  2025: {'peak_date': Timestamp('2025-03-16 00:00:00')}},\n",
       " 'MG': {2023: {'peak_date': Timestamp('2023-04-09 00:00:00')},\n",
       "  2024: {'peak_date': Timestamp('2024-03-17 00:00:00')},\n",
       "  2025: {'peak_date': Timestamp('2025-02-16 00:00:00')}},\n",
       " 'MS': {2023: {'peak_date': Timestamp('2023-03-26 00:00:00')},\n",
       "  2024: {'peak_date': Timestamp('2024-03-10 00:00:00')},\n",
       "  2025: {'peak_date': Timestamp('2025-04-06 00:00:00')}},\n",
       " 'ES': {2023: {'peak_date': Timestamp('2023-03-26 00:00:00')},\n",
       "  2024: {'peak_date': Timestamp('2024-03-10 00:00:00')},\n",
       "  2025: {'peak_date': Timestamp('2024-12-15 00:00:00')}}}"
      ]
     },
     "execution_count": 8,
     "metadata": {},
     "output_type": "execute_result"
    }
   ],
   "source": [
    "peak_dates"
   ]
  },
  {
   "cell_type": "markdown",
   "id": "90b0102c-2551-4c0b-a3e1-9734fd271003",
   "metadata": {},
   "source": [
    "Load predictions: "
   ]
  },
  {
   "cell_type": "code",
   "execution_count": 19,
   "id": "9e832acc-309c-4fa3-915d-d7d9c39e5f55",
   "metadata": {},
   "outputs": [
    {
     "name": "stderr",
     "output_type": "stream",
     "text": [
      "/var/folders/ch/kxpr39wx44v97968yr_4hmch0000gn/T/ipykernel_8204/185426856.py:1: DtypeWarning: Columns (10) have mixed types. Specify dtype option on import or set low_memory=False.\n",
      "  df_preds = pd.read_csv('predictions/preds_2nd_sprint.csv.gz')\n"
     ]
    },
    {
     "data": {
      "text/html": [
       "<div>\n",
       "<style scoped>\n",
       "    .dataframe tbody tr th:only-of-type {\n",
       "        vertical-align: middle;\n",
       "    }\n",
       "\n",
       "    .dataframe tbody tr th {\n",
       "        vertical-align: top;\n",
       "    }\n",
       "\n",
       "    .dataframe thead th {\n",
       "        text-align: right;\n",
       "    }\n",
       "</style>\n",
       "<table border=\"1\" class=\"dataframe\">\n",
       "  <thead>\n",
       "    <tr style=\"text-align: right;\">\n",
       "      <th></th>\n",
       "      <th>date</th>\n",
       "      <th>lower_95</th>\n",
       "      <th>lower_90</th>\n",
       "      <th>lower_80</th>\n",
       "      <th>lower_50</th>\n",
       "      <th>pred</th>\n",
       "      <th>upper_50</th>\n",
       "      <th>upper_80</th>\n",
       "      <th>upper_90</th>\n",
       "      <th>upper_95</th>\n",
       "      <th>valid_test</th>\n",
       "      <th>state</th>\n",
       "      <th>model_id</th>\n",
       "    </tr>\n",
       "  </thead>\n",
       "  <tbody>\n",
       "    <tr>\n",
       "      <th>0</th>\n",
       "      <td>2024-10-06</td>\n",
       "      <td>22.422222</td>\n",
       "      <td>40.304679</td>\n",
       "      <td>79.162970</td>\n",
       "      <td>244.274988</td>\n",
       "      <td>853.700012</td>\n",
       "      <td>2982.915845</td>\n",
       "      <td>9196.810733</td>\n",
       "      <td>18041.732884</td>\n",
       "      <td>32366.797486</td>\n",
       "      <td>3</td>\n",
       "      <td>RS</td>\n",
       "      <td>108</td>\n",
       "    </tr>\n",
       "    <tr>\n",
       "      <th>1</th>\n",
       "      <td>2024-10-13</td>\n",
       "      <td>18.743651</td>\n",
       "      <td>34.187301</td>\n",
       "      <td>68.269130</td>\n",
       "      <td>216.515891</td>\n",
       "      <td>779.997873</td>\n",
       "      <td>2809.263104</td>\n",
       "      <td>8900.886361</td>\n",
       "      <td>17748.532118</td>\n",
       "      <td>32294.740637</td>\n",
       "      <td>3</td>\n",
       "      <td>RS</td>\n",
       "      <td>108</td>\n",
       "    </tr>\n",
       "    <tr>\n",
       "      <th>2</th>\n",
       "      <td>2024-10-20</td>\n",
       "      <td>6.581569</td>\n",
       "      <td>12.226861</td>\n",
       "      <td>24.874887</td>\n",
       "      <td>81.165077</td>\n",
       "      <td>301.351891</td>\n",
       "      <td>1118.132411</td>\n",
       "      <td>3638.484729</td>\n",
       "      <td>7371.869282</td>\n",
       "      <td>13600.483733</td>\n",
       "      <td>3</td>\n",
       "      <td>RS</td>\n",
       "      <td>108</td>\n",
       "    </tr>\n",
       "    <tr>\n",
       "      <th>3</th>\n",
       "      <td>2024-10-27</td>\n",
       "      <td>17.097895</td>\n",
       "      <td>32.060474</td>\n",
       "      <td>66.082749</td>\n",
       "      <td>220.934380</td>\n",
       "      <td>843.905436</td>\n",
       "      <td>3222.679992</td>\n",
       "      <td>10763.205908</td>\n",
       "      <td>22149.610067</td>\n",
       "      <td>41420.387215</td>\n",
       "      <td>3</td>\n",
       "      <td>RS</td>\n",
       "      <td>108</td>\n",
       "    </tr>\n",
       "    <tr>\n",
       "      <th>4</th>\n",
       "      <td>2024-11-03</td>\n",
       "      <td>18.724941</td>\n",
       "      <td>35.572182</td>\n",
       "      <td>74.438413</td>\n",
       "      <td>255.270334</td>\n",
       "      <td>1003.039414</td>\n",
       "      <td>3940.407380</td>\n",
       "      <td>13500.169745</td>\n",
       "      <td>28209.239339</td>\n",
       "      <td>53454.977878</td>\n",
       "      <td>3</td>\n",
       "      <td>RS</td>\n",
       "      <td>108</td>\n",
       "    </tr>\n",
       "  </tbody>\n",
       "</table>\n",
       "</div>"
      ],
      "text/plain": [
       "        date   lower_95   lower_90   lower_80    lower_50         pred  \\\n",
       "0 2024-10-06  22.422222  40.304679  79.162970  244.274988   853.700012   \n",
       "1 2024-10-13  18.743651  34.187301  68.269130  216.515891   779.997873   \n",
       "2 2024-10-20   6.581569  12.226861  24.874887   81.165077   301.351891   \n",
       "3 2024-10-27  17.097895  32.060474  66.082749  220.934380   843.905436   \n",
       "4 2024-11-03  18.724941  35.572182  74.438413  255.270334  1003.039414   \n",
       "\n",
       "      upper_50      upper_80      upper_90      upper_95 valid_test state  \\\n",
       "0  2982.915845   9196.810733  18041.732884  32366.797486          3    RS   \n",
       "1  2809.263104   8900.886361  17748.532118  32294.740637          3    RS   \n",
       "2  1118.132411   3638.484729   7371.869282  13600.483733          3    RS   \n",
       "3  3222.679992  10763.205908  22149.610067  41420.387215          3    RS   \n",
       "4  3940.407380  13500.169745  28209.239339  53454.977878          3    RS   \n",
       "\n",
       "   model_id  \n",
       "0       108  \n",
       "1       108  \n",
       "2       108  \n",
       "3       108  \n",
       "4       108  "
      ]
     },
     "execution_count": 19,
     "metadata": {},
     "output_type": "execute_result"
    }
   ],
   "source": [
    "df_preds = pd.read_csv('predictions/preds_2nd_sprint.csv.gz')\n",
    "\n",
    "df_preds['date'] = pd.to_datetime(df_preds.date)\n",
    "\n",
    "df_preds['valid_test'] = df_preds['valid_test'].astype(str)\n",
    "\n",
    "df_preds = df_preds.loc[df_preds.valid_test.isin(['1', '2', '3'])]\n",
    "\n",
    "df_preds.head()"
   ]
  },
  {
   "cell_type": "code",
   "execution_count": 20,
   "id": "a90f26ff-ced2-4e34-a81d-b4f671d9930d",
   "metadata": {},
   "outputs": [
    {
     "data": {
      "text/plain": [
       "array(['3', '2', '1'], dtype=object)"
      ]
     },
     "execution_count": 20,
     "metadata": {},
     "output_type": "execute_result"
    }
   ],
   "source": [
    "df_preds.valid_test.unique()"
   ]
  },
  {
   "cell_type": "code",
   "execution_count": 21,
   "id": "60163a50-dc7f-43af-a565-ffdd868bb5e3",
   "metadata": {},
   "outputs": [
    {
     "data": {
      "text/plain": [
       "array([108, 133, 134, 135, 136, 137, 138, 139, 141, 143, 144, 145, 150,\n",
       "       152, 154, 155, 156, 157])"
      ]
     },
     "execution_count": 21,
     "metadata": {},
     "output_type": "execute_result"
    }
   ],
   "source": [
    "df_preds.model_id.unique()"
   ]
  },
  {
   "cell_type": "code",
   "execution_count": 22,
   "id": "a88099e0-d68c-471f-8dfc-544b6a51a0eb",
   "metadata": {},
   "outputs": [
    {
     "data": {
      "text/html": [
       "<div>\n",
       "<style scoped>\n",
       "    .dataframe tbody tr th:only-of-type {\n",
       "        vertical-align: middle;\n",
       "    }\n",
       "\n",
       "    .dataframe tbody tr th {\n",
       "        vertical-align: top;\n",
       "    }\n",
       "\n",
       "    .dataframe thead th {\n",
       "        text-align: right;\n",
       "    }\n",
       "</style>\n",
       "<table border=\"1\" class=\"dataframe\">\n",
       "  <thead>\n",
       "    <tr style=\"text-align: right;\">\n",
       "      <th></th>\n",
       "      <th></th>\n",
       "      <th></th>\n",
       "      <th>pred</th>\n",
       "    </tr>\n",
       "    <tr>\n",
       "      <th>valid_test</th>\n",
       "      <th>state</th>\n",
       "      <th>model_id</th>\n",
       "      <th></th>\n",
       "    </tr>\n",
       "  </thead>\n",
       "  <tbody>\n",
       "  </tbody>\n",
       "</table>\n",
       "</div>"
      ],
      "text/plain": [
       "Empty DataFrame\n",
       "Columns: [pred]\n",
       "Index: []"
      ]
     },
     "execution_count": 22,
     "metadata": {},
     "output_type": "execute_result"
    }
   ],
   "source": [
    "t_ = df_preds.groupby(['valid_test', 'state', 'model_id'])[['pred']].count()\n",
    "\n",
    "t_.loc[t_.pred != 52]"
   ]
  },
  {
   "cell_type": "code",
   "execution_count": 23,
   "id": "0f5360cb-ad68-4f2e-a1d6-7cc3e22128b3",
   "metadata": {},
   "outputs": [
    {
     "data": {
      "text/html": [
       "<div>\n",
       "<style scoped>\n",
       "    .dataframe tbody tr th:only-of-type {\n",
       "        vertical-align: middle;\n",
       "    }\n",
       "\n",
       "    .dataframe tbody tr th {\n",
       "        vertical-align: top;\n",
       "    }\n",
       "\n",
       "    .dataframe thead th {\n",
       "        text-align: right;\n",
       "    }\n",
       "</style>\n",
       "<table border=\"1\" class=\"dataframe\">\n",
       "  <thead>\n",
       "    <tr style=\"text-align: right;\">\n",
       "      <th></th>\n",
       "      <th></th>\n",
       "      <th></th>\n",
       "      <th>lower_95</th>\n",
       "      <th>lower_90</th>\n",
       "      <th>lower_80</th>\n",
       "      <th>lower_50</th>\n",
       "      <th>pred</th>\n",
       "      <th>upper_50</th>\n",
       "      <th>upper_80</th>\n",
       "      <th>upper_90</th>\n",
       "      <th>upper_95</th>\n",
       "      <th>valid_test</th>\n",
       "    </tr>\n",
       "    <tr>\n",
       "      <th>date</th>\n",
       "      <th>state</th>\n",
       "      <th>model_id</th>\n",
       "      <th></th>\n",
       "      <th></th>\n",
       "      <th></th>\n",
       "      <th></th>\n",
       "      <th></th>\n",
       "      <th></th>\n",
       "      <th></th>\n",
       "      <th></th>\n",
       "      <th></th>\n",
       "      <th></th>\n",
       "    </tr>\n",
       "  </thead>\n",
       "  <tbody>\n",
       "  </tbody>\n",
       "</table>\n",
       "</div>"
      ],
      "text/plain": [
       "Empty DataFrame\n",
       "Columns: [lower_95, lower_90, lower_80, lower_50, pred, upper_50, upper_80, upper_90, upper_95, valid_test]\n",
       "Index: []"
      ]
     },
     "execution_count": 23,
     "metadata": {},
     "output_type": "execute_result"
    }
   ],
   "source": [
    "t_ = df_preds.groupby(['date', 'state', 'model_id']).count()\n",
    "t_.loc[t_.pred > 1]"
   ]
  },
  {
   "cell_type": "markdown",
   "id": "65683b02-4597-44a5-aeb2-d9ef6e819e4e",
   "metadata": {},
   "source": [
    "Dataframe with the metrics computed: "
   ]
  },
  {
   "cell_type": "code",
   "execution_count": 24,
   "id": "1de4416e-5eb1-4f21-aab1-b797e7644bc8",
   "metadata": {},
   "outputs": [],
   "source": [
    "def compute_metrics(model, df_w, df_preds_, state=None, year=None, peak = False):\n",
    "    '''\n",
    "    Function to compute the score for the entire validation test or only around the peak (if peak=True).\n",
    "    '''\n",
    "\n",
    "    if peak: \n",
    "\n",
    "        pw = peak_dates[state][2022+int(year)]['peak_date']\n",
    "\n",
    "        start = Week.fromdate(pw - pd.Timedelta(days = 7)).startdate().strftime('%Y-%m-%d')\n",
    "    \n",
    "        end = Week.fromdate(pw + pd.Timedelta(days = 7)).startdate().strftime('%Y-%m-%d')\n",
    "    \n",
    "        dates_ =  pd.date_range(start= start,\n",
    "                  end= end,\n",
    "                  freq='W-SUN')\n",
    "\n",
    "        df_preds_2 = df_preds_.loc[df_preds_.date.isin(dates_)]\n",
    "        df_w2 = df_w.loc[df_w.date.isin(dates_)]\n",
    "        \n",
    "    else:\n",
    "        df_preds_2 = df_preds_\n",
    "        df_w2 = df_w\n",
    "        \n",
    "    df_preds_model = df_preds_2.loc[df_preds_2.model_id == model].reset_index(drop = True)\n",
    "        \n",
    "    df_preds_to_score = df_w2.merge(df_preds_model, left_on = ['date', 'uf'], right_on = ['date', 'state'])\n",
    "\n",
    "    wis = np.mean(compute_wis( \n",
    "                        df_preds_to_score[['date',  'lower_95', 'lower_90', 'lower_80', 'lower_50',\n",
    "                           'pred', 'upper_50', 'upper_80', 'upper_90', 'upper_95']],\n",
    "                        observed_value = df_preds_to_score['casos'].values)) \n",
    "    return wis"
   ]
  },
  {
   "cell_type": "code",
   "execution_count": 27,
   "id": "02cb39d5-34dd-4e7c-8f82-582d14e1f863",
   "metadata": {},
   "outputs": [
    {
     "name": "stdout",
     "output_type": "stream",
     "text": [
      "CPU times: user 2.86 s, sys: 28.4 ms, total: 2.89 s\n",
      "Wall time: 2.96 s\n"
     ]
    },
    {
     "data": {
      "text/html": [
       "<div>\n",
       "<style scoped>\n",
       "    .dataframe tbody tr th:only-of-type {\n",
       "        vertical-align: middle;\n",
       "    }\n",
       "\n",
       "    .dataframe tbody tr th {\n",
       "        vertical-align: top;\n",
       "    }\n",
       "\n",
       "    .dataframe thead th {\n",
       "        text-align: right;\n",
       "    }\n",
       "</style>\n",
       "<table border=\"1\" class=\"dataframe\">\n",
       "  <thead>\n",
       "    <tr style=\"text-align: right;\">\n",
       "      <th></th>\n",
       "      <th>model</th>\n",
       "      <th>state</th>\n",
       "      <th>validation_test</th>\n",
       "      <th>WIS</th>\n",
       "    </tr>\n",
       "  </thead>\n",
       "  <tbody>\n",
       "    <tr>\n",
       "      <th>0</th>\n",
       "      <td>108</td>\n",
       "      <td>RS</td>\n",
       "      <td>1</td>\n",
       "      <td>8921.236508</td>\n",
       "    </tr>\n",
       "    <tr>\n",
       "      <th>1</th>\n",
       "      <td>136</td>\n",
       "      <td>RS</td>\n",
       "      <td>1</td>\n",
       "      <td>509.433869</td>\n",
       "    </tr>\n",
       "    <tr>\n",
       "      <th>2</th>\n",
       "      <td>155</td>\n",
       "      <td>RS</td>\n",
       "      <td>1</td>\n",
       "      <td>317.469096</td>\n",
       "    </tr>\n",
       "    <tr>\n",
       "      <th>3</th>\n",
       "      <td>156</td>\n",
       "      <td>RS</td>\n",
       "      <td>1</td>\n",
       "      <td>277.092772</td>\n",
       "    </tr>\n",
       "    <tr>\n",
       "      <th>4</th>\n",
       "      <td>144</td>\n",
       "      <td>RS</td>\n",
       "      <td>1</td>\n",
       "      <td>355.863504</td>\n",
       "    </tr>\n",
       "  </tbody>\n",
       "</table>\n",
       "</div>"
      ],
      "text/plain": [
       "   model state validation_test          WIS\n",
       "0    108    RS               1  8921.236508\n",
       "1    136    RS               1   509.433869\n",
       "2    155    RS               1   317.469096\n",
       "3    156    RS               1   277.092772\n",
       "4    144    RS               1   355.863504"
      ]
     },
     "execution_count": 27,
     "metadata": {},
     "output_type": "execute_result"
    }
   ],
   "source": [
    "%%time\n",
    "df_metrics = pd.DataFrame()\n",
    "\n",
    "for state, test_year in product(df_preds.state.unique(), ['1', '2', '3']):\n",
    "    #print(f'{state} - {test_year}')\n",
    "    df_preds_ = df_preds.loc[(df_preds.state == state) & (df_preds.valid_test == test_year)].sort_values(by='date')\n",
    "\n",
    "    df_w = data.loc[(data.uf == state) & data.date.isin(df_preds_.date.unique())].reset_index(drop=True)\n",
    "\n",
    "    scores =[]\n",
    "    models_ids = df_preds_.model_id.unique()\n",
    "    \n",
    "    for model in models_ids: \n",
    "        #print(model)\n",
    "    \n",
    "        wis = compute_metrics(model, df_w, df_preds_, state=state, year=test_year, peak = False)\n",
    "        \n",
    "        df_metrics = pd.concat([df_metrics,\n",
    "                           pd.DataFrame([[model, state, test_year, wis ]],\n",
    "                            columns = ['model', 'state', 'validation_test', 'WIS'] \n",
    "                            )], ignore_index = True)\n",
    "\n",
    "\n",
    "for state in df_preds.state.unique():\n",
    "    #print(f'{state} - {test_year}')\n",
    "    df_preds_ = df_preds.loc[(df_preds.state == state)].sort_values(by='date')\n",
    "\n",
    "    df_w = data.loc[(data.uf == state) & data.date.isin(df_preds_.date.unique())].reset_index(drop=True)\n",
    "\n",
    "    scores =[]\n",
    "    models_ids = df_preds_.model_id.unique()\n",
    "    \n",
    "    for model in models_ids: \n",
    "        #print(model)\n",
    "    \n",
    "        wis = compute_metrics(model, df_w, df_preds_, state=state, year=test_year, peak = False)\n",
    "        \n",
    "        df_metrics = pd.concat([df_metrics,\n",
    "                           pd.DataFrame([[model, state, 'all', wis ]],\n",
    "                            columns = ['model', 'state', 'validation_test', 'WIS'] \n",
    "                            )], ignore_index = True)\n",
    "\n",
    "\n",
    "\n",
    "\n",
    "df_metrics.head()"
   ]
  },
  {
   "cell_type": "code",
   "execution_count": 28,
   "id": "39da8f3e-4a29-4b2d-be09-67029be8be2e",
   "metadata": {},
   "outputs": [
    {
     "data": {
      "text/plain": [
       "array(['1', '2', '3', 'all'], dtype=object)"
      ]
     },
     "execution_count": 28,
     "metadata": {},
     "output_type": "execute_result"
    }
   ],
   "source": [
    "df_metrics.validation_test.unique()"
   ]
  },
  {
   "cell_type": "code",
   "execution_count": 29,
   "id": "d04b23a5-ba90-4a58-801a-19c5ede37729",
   "metadata": {},
   "outputs": [],
   "source": [
    "import warnings\n",
    "\n",
    "# Turn the RuntimeWarning for empty slices into an exception\n",
    "warnings.filterwarnings(\"error\", category=RuntimeWarning)"
   ]
  },
  {
   "cell_type": "code",
   "execution_count": 30,
   "id": "e5bbd8cd-263b-401e-8e63-6c7977b08cad",
   "metadata": {},
   "outputs": [
    {
     "data": {
      "text/html": [
       "<div>\n",
       "<style scoped>\n",
       "    .dataframe tbody tr th:only-of-type {\n",
       "        vertical-align: middle;\n",
       "    }\n",
       "\n",
       "    .dataframe tbody tr th {\n",
       "        vertical-align: top;\n",
       "    }\n",
       "\n",
       "    .dataframe thead th {\n",
       "        text-align: right;\n",
       "    }\n",
       "</style>\n",
       "<table border=\"1\" class=\"dataframe\">\n",
       "  <thead>\n",
       "    <tr style=\"text-align: right;\">\n",
       "      <th></th>\n",
       "      <th>model</th>\n",
       "      <th>state</th>\n",
       "      <th>validation_test</th>\n",
       "      <th>WIS</th>\n",
       "    </tr>\n",
       "  </thead>\n",
       "  <tbody>\n",
       "    <tr>\n",
       "      <th>0</th>\n",
       "      <td>108</td>\n",
       "      <td>RS</td>\n",
       "      <td>1</td>\n",
       "      <td>39719.212357</td>\n",
       "    </tr>\n",
       "    <tr>\n",
       "      <th>1</th>\n",
       "      <td>133</td>\n",
       "      <td>RS</td>\n",
       "      <td>1</td>\n",
       "      <td>2961.581235</td>\n",
       "    </tr>\n",
       "    <tr>\n",
       "      <th>2</th>\n",
       "      <td>134</td>\n",
       "      <td>RS</td>\n",
       "      <td>1</td>\n",
       "      <td>7863.638277</td>\n",
       "    </tr>\n",
       "    <tr>\n",
       "      <th>3</th>\n",
       "      <td>135</td>\n",
       "      <td>RS</td>\n",
       "      <td>1</td>\n",
       "      <td>2660.073287</td>\n",
       "    </tr>\n",
       "    <tr>\n",
       "      <th>4</th>\n",
       "      <td>136</td>\n",
       "      <td>RS</td>\n",
       "      <td>1</td>\n",
       "      <td>2744.190180</td>\n",
       "    </tr>\n",
       "  </tbody>\n",
       "</table>\n",
       "</div>"
      ],
      "text/plain": [
       "   model state validation_test           WIS\n",
       "0    108    RS               1  39719.212357\n",
       "1    133    RS               1   2961.581235\n",
       "2    134    RS               1   7863.638277\n",
       "3    135    RS               1   2660.073287\n",
       "4    136    RS               1   2744.190180"
      ]
     },
     "execution_count": 30,
     "metadata": {},
     "output_type": "execute_result"
    }
   ],
   "source": [
    "df_metrics_peak = pd.DataFrame()\n",
    "\n",
    "for state, test_year in product(df_preds.state.unique(), ['1', '2', '3']):\n",
    "    #print(f'{state} - {test_year}')\n",
    "    df_preds_ = df_preds.loc[(df_preds.state == state) & (df_preds.valid_test ==test_year)]\n",
    "\n",
    "    df_w = data.loc[(data.uf == state) & data.date.isin(df_preds_.date.unique())].reset_index(drop=True)\n",
    "        \n",
    "    scores =[]\n",
    "    models_ids = df_preds_.model_id.unique()\n",
    "    \n",
    "    for model in models_ids: \n",
    "        #print(model)\n",
    "    \n",
    "        wis = compute_metrics(model, df_w, df_preds_, state=state, year=test_year, peak = True)\n",
    "        \n",
    "        df_metrics_peak = pd.concat([df_metrics_peak,\n",
    "                           pd.DataFrame([[model, state, test_year, wis ]],\n",
    "                            columns = ['model', 'state', 'validation_test', 'WIS'] \n",
    "                            )], ignore_index = True)\n",
    "\n",
    "df_metrics_peak.head()"
   ]
  },
  {
   "cell_type": "code",
   "execution_count": 32,
   "id": "28204253-5520-40f6-8d4b-f5e5a69f4017",
   "metadata": {},
   "outputs": [
    {
     "data": {
      "text/plain": [
       "model                0\n",
       "state                0\n",
       "validation_test      0\n",
       "WIS                  0\n",
       "WIS_peak           481\n",
       "dtype: int64"
      ]
     },
     "execution_count": 32,
     "metadata": {},
     "output_type": "execute_result"
    }
   ],
   "source": [
    "df_end = df_metrics.merge(df_metrics_peak.rename(columns = {'WIS': 'WIS_peak'}), left_on = ['model', 'state', 'validation_test'], \n",
    "                                         right_on = ['model', 'state', 'validation_test'], how = 'outer')\n",
    "\n",
    "df_end.isnull().sum()"
   ]
  },
  {
   "cell_type": "code",
   "execution_count": 33,
   "id": "96e962f4-4b45-49ed-a042-6b99e9eac173",
   "metadata": {},
   "outputs": [],
   "source": [
    "df_end.to_csv('results/metrics_wis.csv', index = False)"
   ]
  },
  {
   "cell_type": "code",
   "execution_count": null,
   "id": "7b1e90a2-3c52-4c1f-b9e3-d0e9b17e808c",
   "metadata": {},
   "outputs": [],
   "source": []
  }
 ],
 "metadata": {
  "kernelspec": {
   "display_name": "Python 3 (ipykernel)",
   "language": "python",
   "name": "python3"
  },
  "language_info": {
   "codemirror_mode": {
    "name": "ipython",
    "version": 3
   },
   "file_extension": ".py",
   "mimetype": "text/x-python",
   "name": "python",
   "nbconvert_exporter": "python",
   "pygments_lexer": "ipython3",
   "version": "3.12.4"
  }
 },
 "nbformat": 4,
 "nbformat_minor": 5
}
