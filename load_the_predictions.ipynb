{
 "cells": [
  {
   "cell_type": "markdown",
   "id": "db6039ea-fc6c-41ac-bb12-7bf4ec635947",
   "metadata": {},
   "source": [
    "Notebook used to load the predictions sent in the mosqlimate data platform: "
   ]
  },
  {
   "cell_type": "code",
   "execution_count": 1,
   "id": "c6949387-9e99-4d6d-8d94-eadbc8ed0746",
   "metadata": {},
   "outputs": [],
   "source": [
    "import numpy as np\n",
    "import pandas as pd\n",
    "import mosqlient as mosq\n",
    "from epiweeks import Week\n",
    "\n",
    "from dotenv import load_dotenv\n",
    "import os\n",
    "\n",
    "# Load the .env file\n",
    "load_dotenv()  # by default, it looks for a file named \".env\" in the current directory\n",
    "\n",
    "# Access variables\n",
    "api_key = os.getenv(\"API_KEY\")\n",
    "\n"
   ]
  },
  {
   "cell_type": "code",
   "execution_count": 2,
   "id": "f163dbc6-96ac-4023-92f0-60e9bcbacb0d",
   "metadata": {},
   "outputs": [],
   "source": [
    "ref_dates_23 = pd.date_range(start= Week(2022, 41).startdate().strftime('%Y-%m-%d'),\n",
    "              end= Week(2023, 40).startdate().strftime('%Y-%m-%d'),\n",
    "              freq='W-SUN')\n",
    "\n",
    "ref_dates_24 = pd.date_range(start= Week(2023, 41).startdate().strftime('%Y-%m-%d'),\n",
    "              end= Week(2024, 40).startdate().strftime('%Y-%m-%d'),\n",
    "              freq='W-SUN')\n",
    "\n",
    "ref_dates_25 = pd.date_range(start= Week(2024, 41).startdate().strftime('%Y-%m-%d'),\n",
    "              end= Week(2025, 40).startdate().strftime('%Y-%m-%d'),\n",
    "              freq='W-SUN')\n",
    "\n",
    "ref_dates_26 = pd.date_range(start= Week(2025, 41).startdate().strftime('%Y-%m-%d'),\n",
    "              end= Week(2026, 40).startdate().strftime('%Y-%m-%d'),\n",
    "              freq='W-SUN')"
   ]
  },
  {
   "cell_type": "code",
   "execution_count": 3,
   "id": "d001f2d1-cf78-4cda-81ca-51bb826fd760",
   "metadata": {},
   "outputs": [],
   "source": [
    "models_id = [108, 133,134, 135, 136,137,138,139, 143, 144, 145, 150, 152, 154, 155,156, 157] "
   ]
  },
  {
   "cell_type": "code",
   "execution_count": 5,
   "id": "7918dc85-b8b5-494a-a5d9-45d7efcdd600",
   "metadata": {},
   "outputs": [
    {
     "name": "stderr",
     "output_type": "stream",
     "text": [
      "100%|███████████████████████████████████████| 3/3 [00:02<00:00,  1.14requests/s]\n",
      "100%|███████████████████████████████████████| 2/2 [00:02<00:00,  1.31s/requests]\n",
      "100%|███████████████████████████████████████| 2/2 [00:02<00:00,  1.28s/requests]\n",
      "100%|███████████████████████████████████████| 2/2 [00:02<00:00,  1.17s/requests]\n",
      "100%|███████████████████████████████████████| 2/2 [00:02<00:00,  1.34s/requests]\n",
      "100%|███████████████████████████████████████| 2/2 [00:02<00:00,  1.35s/requests]\n",
      "100%|███████████████████████████████████████| 2/2 [00:02<00:00,  1.35s/requests]\n",
      "100%|███████████████████████████████████████| 2/2 [00:02<00:00,  1.24s/requests]\n",
      "100%|███████████████████████████████████████| 2/2 [00:02<00:00,  1.38s/requests]\n",
      "100%|███████████████████████████████████████| 3/3 [00:02<00:00,  1.13requests/s]\n",
      "100%|███████████████████████████████████████| 2/2 [00:02<00:00,  1.30s/requests]\n",
      "100%|███████████████████████████████████████| 3/3 [00:02<00:00,  1.13requests/s]\n",
      "100%|███████████████████████████████████████| 2/2 [00:02<00:00,  1.30s/requests]\n",
      "100%|███████████████████████████████████████| 2/2 [00:04<00:00,  2.36s/requests]\n",
      "100%|███████████████████████████████████████| 2/2 [00:02<00:00,  1.28s/requests]\n",
      "100%|███████████████████████████████████████| 2/2 [00:02<00:00,  1.43s/requests]\n",
      "100%|███████████████████████████████████████| 2/2 [00:02<00:00,  1.44s/requests]\n",
      "100%|███████████████████████████████████████| 2/2 [00:02<00:00,  1.27s/requests]\n"
     ]
    }
   ],
   "source": [
    "list_preds = []\n",
    "\n",
    "for model in models_id: \n",
    "    preds = mosq.get_predictions(api_key=api_key, model_id=model)\n",
    "\n",
    "    list_preds = list_preds + preds"
   ]
  },
  {
   "cell_type": "code",
   "execution_count": 6,
   "id": "91d5770e-86f0-4ec8-8895-cd911d5fa2bd",
   "metadata": {},
   "outputs": [
    {
     "data": {
      "text/plain": [
       "108"
      ]
     },
     "execution_count": 6,
     "metadata": {},
     "output_type": "execute_result"
    }
   ],
   "source": [
    "list_preds[0].model.id"
   ]
  },
  {
   "cell_type": "code",
   "execution_count": 7,
   "id": "41478889-10e3-4637-84ad-1c72f34110c7",
   "metadata": {},
   "outputs": [
    {
     "data": {
      "text/plain": [
       "108"
      ]
     },
     "execution_count": 7,
     "metadata": {},
     "output_type": "execute_result"
    }
   ],
   "source": [
    "list_preds[0].dict()['model']['id']"
   ]
  },
  {
   "cell_type": "code",
   "execution_count": 15,
   "id": "602ea692-ffe3-4ae9-b40d-6ed15cabd1e0",
   "metadata": {},
   "outputs": [
    {
     "name": "stdout",
     "output_type": "stream",
     "text": [
      "CPU times: user 2.51 s, sys: 275 ms, total: 2.78 s\n",
      "Wall time: 2.81 s\n"
     ]
    }
   ],
   "source": [
    "%%time \n",
    "df_predictions = pd.DataFrame()\n",
    "\n",
    "for pred_ in list_preds:\n",
    "\n",
    "    preds_df = pred_.to_dataframe()\n",
    "\n",
    "    preds_df.date = pd.to_datetime(preds_df.date)\n",
    "\n",
    "    min_date = min(preds_df.date)\n",
    "    \n",
    "    max_date = max(preds_df.date)\n",
    "\n",
    "    df_dates = set(preds_df.date)\n",
    "\n",
    "    if min_date.year == 2022:\n",
    "        preds_df = preds_df.loc[preds_df.date.isin(ref_dates_23)]\n",
    "        preds_df['valid_test'] = 1 \n",
    "        \n",
    "    elif min_date.year == 2023:\n",
    "        preds_df = preds_df.loc[preds_df.date.isin(ref_dates_24)]\n",
    "        preds_df['valid_test'] = 2 \n",
    "\n",
    "    elif min_date.year == 2024:\n",
    "        preds_df = preds_df.loc[preds_df.date.isin(ref_dates_25)]\n",
    "        preds_df['valid_test'] = 3 \n",
    "        \n",
    "    elif min_date.year == 2025:\n",
    "        preds_df = preds_df.loc[preds_df.date.isin(ref_dates_26)]\n",
    "        preds_df['valid_test'] = 'Forecast'\n",
    "\n",
    "    pred_dict = pred_.dict()\n",
    "    preds_df['state'] = pred_dict['adm_1']\n",
    "    preds_df['model_id'] = pred_dict['model']['id']\n",
    "    preds_df['valid_test'] = preds_df['valid_test'].astype(str)\n",
    "\n",
    "    df_predictions = pd.concat([df_predictions, preds_df], ignore_index = True)\n"
   ]
  },
  {
   "cell_type": "code",
   "execution_count": 16,
   "id": "e13c5fc0-03d0-4c47-a40b-82e6a54d3757",
   "metadata": {},
   "outputs": [
    {
     "data": {
      "text/plain": [
       "18"
      ]
     },
     "execution_count": 16,
     "metadata": {},
     "output_type": "execute_result"
    }
   ],
   "source": [
    "len(df_predictions.model_id.unique())"
   ]
  },
  {
   "cell_type": "code",
   "execution_count": 17,
   "id": "aa865ca9-5043-4da4-aae7-b3488e8365a3",
   "metadata": {},
   "outputs": [
    {
     "data": {
      "text/html": [
       "<div>\n",
       "<style scoped>\n",
       "    .dataframe tbody tr th:only-of-type {\n",
       "        vertical-align: middle;\n",
       "    }\n",
       "\n",
       "    .dataframe tbody tr th {\n",
       "        vertical-align: top;\n",
       "    }\n",
       "\n",
       "    .dataframe thead th {\n",
       "        text-align: right;\n",
       "    }\n",
       "</style>\n",
       "<table border=\"1\" class=\"dataframe\">\n",
       "  <thead>\n",
       "    <tr style=\"text-align: right;\">\n",
       "      <th></th>\n",
       "      <th></th>\n",
       "      <th>model_id</th>\n",
       "    </tr>\n",
       "    <tr>\n",
       "      <th>state</th>\n",
       "      <th>valid_test</th>\n",
       "      <th></th>\n",
       "    </tr>\n",
       "  </thead>\n",
       "  <tbody>\n",
       "    <tr>\n",
       "      <th>AC</th>\n",
       "      <th>Forecast</th>\n",
       "      <td>3</td>\n",
       "    </tr>\n",
       "    <tr>\n",
       "      <th>AL</th>\n",
       "      <th>Forecast</th>\n",
       "      <td>3</td>\n",
       "    </tr>\n",
       "    <tr>\n",
       "      <th>AM</th>\n",
       "      <th>Forecast</th>\n",
       "      <td>3</td>\n",
       "    </tr>\n",
       "    <tr>\n",
       "      <th>AP</th>\n",
       "      <th>Forecast</th>\n",
       "      <td>3</td>\n",
       "    </tr>\n",
       "    <tr>\n",
       "      <th>BA</th>\n",
       "      <th>Forecast</th>\n",
       "      <td>3</td>\n",
       "    </tr>\n",
       "    <tr>\n",
       "      <th>CE</th>\n",
       "      <th>Forecast</th>\n",
       "      <td>3</td>\n",
       "    </tr>\n",
       "    <tr>\n",
       "      <th>DF</th>\n",
       "      <th>Forecast</th>\n",
       "      <td>3</td>\n",
       "    </tr>\n",
       "    <tr>\n",
       "      <th rowspan=\"4\" valign=\"top\">ES</th>\n",
       "      <th>1</th>\n",
       "      <td>13</td>\n",
       "    </tr>\n",
       "    <tr>\n",
       "      <th>2</th>\n",
       "      <td>13</td>\n",
       "    </tr>\n",
       "    <tr>\n",
       "      <th>3</th>\n",
       "      <td>13</td>\n",
       "    </tr>\n",
       "    <tr>\n",
       "      <th>Forecast</th>\n",
       "      <td>3</td>\n",
       "    </tr>\n",
       "    <tr>\n",
       "      <th>GO</th>\n",
       "      <th>Forecast</th>\n",
       "      <td>3</td>\n",
       "    </tr>\n",
       "    <tr>\n",
       "      <th>MA</th>\n",
       "      <th>Forecast</th>\n",
       "      <td>3</td>\n",
       "    </tr>\n",
       "    <tr>\n",
       "      <th>MG</th>\n",
       "      <th>Forecast</th>\n",
       "      <td>3</td>\n",
       "    </tr>\n",
       "    <tr>\n",
       "      <th>MS</th>\n",
       "      <th>Forecast</th>\n",
       "      <td>3</td>\n",
       "    </tr>\n",
       "    <tr>\n",
       "      <th>MT</th>\n",
       "      <th>Forecast</th>\n",
       "      <td>3</td>\n",
       "    </tr>\n",
       "    <tr>\n",
       "      <th>PA</th>\n",
       "      <th>Forecast</th>\n",
       "      <td>3</td>\n",
       "    </tr>\n",
       "    <tr>\n",
       "      <th>PB</th>\n",
       "      <th>Forecast</th>\n",
       "      <td>3</td>\n",
       "    </tr>\n",
       "    <tr>\n",
       "      <th>PE</th>\n",
       "      <th>Forecast</th>\n",
       "      <td>3</td>\n",
       "    </tr>\n",
       "    <tr>\n",
       "      <th>PI</th>\n",
       "      <th>Forecast</th>\n",
       "      <td>3</td>\n",
       "    </tr>\n",
       "    <tr>\n",
       "      <th>PR</th>\n",
       "      <th>Forecast</th>\n",
       "      <td>3</td>\n",
       "    </tr>\n",
       "    <tr>\n",
       "      <th>RJ</th>\n",
       "      <th>Forecast</th>\n",
       "      <td>3</td>\n",
       "    </tr>\n",
       "    <tr>\n",
       "      <th>RN</th>\n",
       "      <th>Forecast</th>\n",
       "      <td>3</td>\n",
       "    </tr>\n",
       "    <tr>\n",
       "      <th>RO</th>\n",
       "      <th>Forecast</th>\n",
       "      <td>3</td>\n",
       "    </tr>\n",
       "    <tr>\n",
       "      <th>RR</th>\n",
       "      <th>Forecast</th>\n",
       "      <td>3</td>\n",
       "    </tr>\n",
       "    <tr>\n",
       "      <th>RS</th>\n",
       "      <th>Forecast</th>\n",
       "      <td>3</td>\n",
       "    </tr>\n",
       "    <tr>\n",
       "      <th>SC</th>\n",
       "      <th>Forecast</th>\n",
       "      <td>3</td>\n",
       "    </tr>\n",
       "    <tr>\n",
       "      <th>SE</th>\n",
       "      <th>Forecast</th>\n",
       "      <td>3</td>\n",
       "    </tr>\n",
       "    <tr>\n",
       "      <th>SP</th>\n",
       "      <th>Forecast</th>\n",
       "      <td>3</td>\n",
       "    </tr>\n",
       "    <tr>\n",
       "      <th>TO</th>\n",
       "      <th>Forecast</th>\n",
       "      <td>3</td>\n",
       "    </tr>\n",
       "  </tbody>\n",
       "</table>\n",
       "</div>"
      ],
      "text/plain": [
       "                  model_id\n",
       "state valid_test          \n",
       "AC    Forecast           3\n",
       "AL    Forecast           3\n",
       "AM    Forecast           3\n",
       "AP    Forecast           3\n",
       "BA    Forecast           3\n",
       "CE    Forecast           3\n",
       "DF    Forecast           3\n",
       "ES    1                 13\n",
       "      2                 13\n",
       "      3                 13\n",
       "      Forecast           3\n",
       "GO    Forecast           3\n",
       "MA    Forecast           3\n",
       "MG    Forecast           3\n",
       "MS    Forecast           3\n",
       "MT    Forecast           3\n",
       "PA    Forecast           3\n",
       "PB    Forecast           3\n",
       "PE    Forecast           3\n",
       "PI    Forecast           3\n",
       "PR    Forecast           3\n",
       "RJ    Forecast           3\n",
       "RN    Forecast           3\n",
       "RO    Forecast           3\n",
       "RR    Forecast           3\n",
       "RS    Forecast           3\n",
       "SC    Forecast           3\n",
       "SE    Forecast           3\n",
       "SP    Forecast           3\n",
       "TO    Forecast           3"
      ]
     },
     "execution_count": 17,
     "metadata": {},
     "output_type": "execute_result"
    }
   ],
   "source": [
    "count_models = df_predictions.groupby(['state', 'valid_test'])[['model_id']].nunique()\n",
    "\n",
    "count_models.loc[count_models.model_id < 18]"
   ]
  },
  {
   "cell_type": "code",
   "execution_count": 18,
   "id": "17ebf15c-787e-4062-b236-877d38224b59",
   "metadata": {},
   "outputs": [
    {
     "data": {
      "text/plain": [
       "array([108, 133, 134, 135, 136, 137, 138, 139, 141, 143, 144, 145, 150,\n",
       "       152, 154, 155, 156, 157])"
      ]
     },
     "execution_count": 18,
     "metadata": {},
     "output_type": "execute_result"
    }
   ],
   "source": [
    "df_predictions.model_id.unique()"
   ]
  },
  {
   "cell_type": "code",
   "execution_count": 20,
   "id": "f2ad07db-2b36-4b28-9bdf-c465071a0dea",
   "metadata": {},
   "outputs": [],
   "source": [
    "df_predictions.to_csv('predictions/preds_2nd_sprint.csv.gz', index = False)"
   ]
  }
 ],
 "metadata": {
  "kernelspec": {
   "display_name": "Python 3 (ipykernel)",
   "language": "python",
   "name": "python3"
  },
  "language_info": {
   "codemirror_mode": {
    "name": "ipython",
    "version": 3
   },
   "file_extension": ".py",
   "mimetype": "text/x-python",
   "name": "python",
   "nbconvert_exporter": "python",
   "pygments_lexer": "ipython3",
   "version": "3.12.4"
  }
 },
 "nbformat": 4,
 "nbformat_minor": 5
}
